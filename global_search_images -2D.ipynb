{
 "cells": [
  {
   "cell_type": "code",
   "execution_count": 53,
   "id": "a2f310a3",
   "metadata": {},
   "outputs": [],
   "source": [
    "import numpy as np\n",
    "from tensorflow.keras.models import load_model\n",
    "import os\n",
    "import matplotlib.pyplot as plt\n",
    "from scipy.stats import norm\n",
    "from tensorflow.keras.preprocessing import image\n",
    "import cv2"
   ]
  },
  {
   "cell_type": "code",
   "execution_count": 54,
   "id": "20114874",
   "metadata": {},
   "outputs": [],
   "source": [
    "#可变参数\n",
    "model_folder_name='saved generator_13'"
   ]
  },
  {
   "cell_type": "code",
   "execution_count": 55,
   "id": "af8136af",
   "metadata": {},
   "outputs": [
    {
     "name": "stdout",
     "output_type": "stream",
     "text": [
      "WARNING:tensorflow:No training configuration found in save file, so the model was *not* compiled. Compile it manually.\n",
      "Model: \"model_1\"\n",
      "_________________________________________________________________\n",
      "Layer (type)                 Output Shape              Param #   \n",
      "=================================================================\n",
      "input_2 (InputLayer)         [(None, 2)]               0         \n",
      "_________________________________________________________________\n",
      "dense_1 (Dense)              (None, 2048)              6144      \n",
      "_________________________________________________________________\n",
      "reshape (Reshape)            (None, 2, 8, 128)         0         \n",
      "_________________________________________________________________\n",
      "conv2d_transpose (Conv2DTran (None, 4, 16, 128)        262272    \n",
      "_________________________________________________________________\n",
      "batch_normalization (BatchNo (None, 4, 16, 128)        512       \n",
      "_________________________________________________________________\n",
      "leaky_re_lu_6 (LeakyReLU)    (None, 4, 16, 128)        0         \n",
      "_________________________________________________________________\n",
      "dropout_6 (Dropout)          (None, 4, 16, 128)        0         \n",
      "_________________________________________________________________\n",
      "conv2d_transpose_1 (Conv2DTr (None, 8, 32, 128)        262272    \n",
      "_________________________________________________________________\n",
      "batch_normalization_1 (Batch (None, 8, 32, 128)        512       \n",
      "_________________________________________________________________\n",
      "leaky_re_lu_7 (LeakyReLU)    (None, 8, 32, 128)        0         \n",
      "_________________________________________________________________\n",
      "dropout_7 (Dropout)          (None, 8, 32, 128)        0         \n",
      "_________________________________________________________________\n",
      "conv2d_transpose_2 (Conv2DTr (None, 16, 64, 128)       262272    \n",
      "_________________________________________________________________\n",
      "batch_normalization_2 (Batch (None, 16, 64, 128)       512       \n",
      "_________________________________________________________________\n",
      "leaky_re_lu_8 (LeakyReLU)    (None, 16, 64, 128)       0         \n",
      "_________________________________________________________________\n",
      "dropout_8 (Dropout)          (None, 16, 64, 128)       0         \n",
      "_________________________________________________________________\n",
      "conv2d_transpose_3 (Conv2DTr (None, 32, 128, 128)      262272    \n",
      "_________________________________________________________________\n",
      "batch_normalization_3 (Batch (None, 32, 128, 128)      512       \n",
      "_________________________________________________________________\n",
      "leaky_re_lu_9 (LeakyReLU)    (None, 32, 128, 128)      0         \n",
      "_________________________________________________________________\n",
      "dropout_9 (Dropout)          (None, 32, 128, 128)      0         \n",
      "_________________________________________________________________\n",
      "conv2d_transpose_4 (Conv2DTr (None, 64, 256, 64)       131136    \n",
      "_________________________________________________________________\n",
      "batch_normalization_4 (Batch (None, 64, 256, 64)       256       \n",
      "_________________________________________________________________\n",
      "leaky_re_lu_10 (LeakyReLU)   (None, 64, 256, 64)       0         \n",
      "_________________________________________________________________\n",
      "dropout_10 (Dropout)         (None, 64, 256, 64)       0         \n",
      "_________________________________________________________________\n",
      "conv2d_transpose_5 (Conv2DTr (None, 128, 512, 1)       1025      \n",
      "=================================================================\n",
      "Total params: 1,189,697\n",
      "Trainable params: 1,188,545\n",
      "Non-trainable params: 1,152\n",
      "_________________________________________________________________\n"
     ]
    }
   ],
   "source": [
    "#固定参数\n",
    "n = 50 #每个维度取值数量\n",
    "latent_dim = 2\n",
    "img_shape = (128, 512, 1) #对于1920*1080电影截屏图片，第一个1920是列（图片水平向像素数量）、第二个1080是行（图片竖向像素数量）。所以输入神经网络时，input_shape=(720 * 1980,)\n",
    "png_folder='.\\\\GAN - %dD_img\\\\'%(latent_dim)\n",
    "\n",
    "#加载模型\n",
    "generator = load_model('.\\\\%s\\\\'%(model_folder_name))  # 载入模型\n",
    "generator.summary()"
   ]
  },
  {
   "cell_type": "code",
   "execution_count": 56,
   "id": "6dbff1ac",
   "metadata": {},
   "outputs": [],
   "source": [
    "#《python深度学习》P255代码清单8-28。\n",
    "figure = np.zeros((img_shape[0] * n, img_shape[1] * n,3)) #因为要添加文字，故RGB格式\n",
    "for max_value in [100,10,1]: #每个维度取值的最大值\n",
    "    grid_x = grid_y =np.linspace(-max_value, max_value, n)#.np.linspace(0, 1, 11)=[0.  0.1 0.2 0.3 0.4 0.5 0.6 0.7 0.8 0.9 1. ]\n",
    "    for i, xi in enumerate(grid_x): \n",
    "        for j, yi in enumerate(grid_y):\n",
    "            z_sample = np.array([[xi, yi]])\n",
    "            x_decoded = generator.predict(z_sample) #tanh值(-1,1)\n",
    "            digit = x_decoded[0]\n",
    "            figure[j * img_shape[0]: (j + 1) * img_shape[0],i * img_shape[1]: (i + 1) * img_shape[1],:] = digit\n",
    "            info='x=%.1f,y=%.1f'%(xi, yi) #文字内容\n",
    "            p_center=(int(i * img_shape[1]+img_shape[1]*1/3),int(j * img_shape[0]+img_shape[0]*5/6)) #文字位置\n",
    "            cv2.putText(figure,info,p_center,cv2.FONT_HERSHEY_PLAIN,1,(1,1,1),1) #color=(1,1,1)的原因：保存文件时要乘以255。《OpenCV 4.5计算机视觉开发实战（基于Python）》P81\n",
    "    figure=figure * 127.5 + 127.5 #因为tanh值(-1,1)\n",
    "    img = image.array_to_img(figure, scale=False)\n",
    "    img.save(os.path.join(png_folder, 'model_folder_name=%s,max_value=%d.png'%(model_folder_name,max_value)))"
   ]
  }
 ],
 "metadata": {
  "kernelspec": {
   "display_name": "Python 3 (ipykernel)",
   "language": "python",
   "name": "python3"
  },
  "language_info": {
   "codemirror_mode": {
    "name": "ipython",
    "version": 3
   },
   "file_extension": ".py",
   "mimetype": "text/x-python",
   "name": "python",
   "nbconvert_exporter": "python",
   "pygments_lexer": "ipython3",
   "version": "3.8.6"
  }
 },
 "nbformat": 4,
 "nbformat_minor": 5
}
